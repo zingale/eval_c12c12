{
 "cells": [
  {
   "cell_type": "code",
   "execution_count": 1,
   "id": "5c1973b3-1fe7-4d71-a6be-eafd89e48b5f",
   "metadata": {},
   "outputs": [],
   "source": [
    "import pynucastro as pyna"
   ]
  },
  {
   "cell_type": "markdown",
   "id": "a9195864-98e8-46c1-8de0-64eb1e787be5",
   "metadata": {},
   "source": [
    "Read in the ReacLib library and get the C12 + C12 -> Ne20 + a rate"
   ]
  },
  {
   "cell_type": "code",
   "execution_count": 2,
   "id": "f0d01122-bab4-4886-8b3e-7a3bc34bb5a3",
   "metadata": {},
   "outputs": [],
   "source": [
    "rl = pyna.ReacLibLibrary()\n",
    "rc12c12 = rl.get_rate_by_name(\"c12(c12,a)ne20\")"
   ]
  },
  {
   "cell_type": "markdown",
   "id": "0bc863a8-e257-48a5-9ac1-55a4252beb64",
   "metadata": {},
   "source": [
    "Evaluate the temperature dependence -- this is $N_A <\\sigma v>$ in CGS units"
   ]
  },
  {
   "cell_type": "code",
   "execution_count": 3,
   "id": "8c08b27a-2877-4b01-a06a-6a850f33af47",
   "metadata": {},
   "outputs": [
    {
     "data": {
      "text/plain": [
       "2.0897838152233415e-11"
      ]
     },
     "execution_count": 3,
     "metadata": {},
     "output_type": "execute_result"
    }
   ],
   "source": [
    "rc12c12.eval(1.e9)"
   ]
  },
  {
   "cell_type": "markdown",
   "id": "7f6d7e52-80c6-4f1e-b19f-39f4fbc323cc",
   "metadata": {},
   "source": [
    "If we want the composition dependence, we need to make a network that knows about the nuclei present.  We can create a `RateCollection` with just this rate"
   ]
  },
  {
   "cell_type": "code",
   "execution_count": 4,
   "id": "cfc30d0f-7e75-45a9-b3c8-023295638605",
   "metadata": {},
   "outputs": [],
   "source": [
    "net = pyna.RateCollection(rates=[rc12c12])"
   ]
  },
  {
   "cell_type": "markdown",
   "id": "57c4bc41-721e-4eb9-a265-48b2360049db",
   "metadata": {},
   "source": [
    "Now we need to define the composition -- here we set it to half C12 and half He4"
   ]
  },
  {
   "cell_type": "code",
   "execution_count": 5,
   "id": "fbd318e6-1afc-4b24-bc11-7c4d42fd5a0a",
   "metadata": {},
   "outputs": [],
   "source": [
    "comp = pyna.Composition(net.unique_nuclei)\n",
    "\n",
    "comp.X[pyna.Nucleus(\"C12\")] = 0.5\n",
    "comp.X[pyna.Nucleus(\"a\")] = 0.5"
   ]
  },
  {
   "cell_type": "markdown",
   "id": "c93455c9-374f-4207-8cd7-22da99c44b24",
   "metadata": {},
   "source": [
    "The `evaluate_rates` method will compute the full rate term, including the composition and density dependence, and, optionally, a screening factor.  Here we use the Chugunov 2009 screening implementation."
   ]
  },
  {
   "cell_type": "code",
   "execution_count": 6,
   "id": "1238f890-0656-449a-9e42-b362bc4245ac",
   "metadata": {},
   "outputs": [
    {
     "data": {
      "text/plain": [
       "{C12 + C12 ⟶ He4 + Ne20: 8.79268351607803e-06}"
      ]
     },
     "execution_count": 6,
     "metadata": {},
     "output_type": "execute_result"
    }
   ],
   "source": [
    "rho = 1.e8\n",
    "T = 1.e9\n",
    "net.evaluate_rates(rho, T, comp, screen_func=pyna.screening.chugunov_2009)"
   ]
  },
  {
   "cell_type": "code",
   "execution_count": null,
   "id": "fc940621-bb09-4be6-ab88-d4da749c980b",
   "metadata": {},
   "outputs": [],
   "source": []
  }
 ],
 "metadata": {
  "kernelspec": {
   "display_name": "Python 3 (ipykernel)",
   "language": "python",
   "name": "python3"
  },
  "language_info": {
   "codemirror_mode": {
    "name": "ipython",
    "version": 3
   },
   "file_extension": ".py",
   "mimetype": "text/x-python",
   "name": "python",
   "nbconvert_exporter": "python",
   "pygments_lexer": "ipython3",
   "version": "3.10.8"
  }
 },
 "nbformat": 4,
 "nbformat_minor": 5
}
